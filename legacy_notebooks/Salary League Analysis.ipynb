{
 "cells": [
  {
   "cell_type": "code",
   "execution_count": 2,
   "metadata": {
    "collapsed": false
   },
   "outputs": [],
   "source": [
    "#Salary league Analysis\n",
    "#Ed Costantini - costed12@gmail.com\n",
    "#Optimizing salary league performance given projections and salary costs\n"
   ]
  },
  {
   "cell_type": "code",
   "execution_count": null,
   "metadata": {
    "collapsed": true
   },
   "outputs": [],
   "source": [
    "import numpy as np\n",
    "import pandas as pd\n",
    "import matplotlib.pyplot as plt"
   ]
  },
  {
   "cell_type": "code",
   "execution_count": 3,
   "metadata": {
    "collapsed": false
   },
   "outputs": [],
   "source": [
    "#importing files\n",
    "#hitter and pitcher projections taken from steamer\n",
    "#fantrax silver csv file provides salaries for the relevant league\n",
    "#hit,pit,fan = 'steamerhitter','steamerpitcher','fantraxsilver'\n",
    "hit,pit,fan = 'atchitter','atcpitcher','fantraxsilver'\n",
    "fileHit = hit + '.csv'\n",
    "filePit = pit +'.csv'\n",
    "fileFan = fan + '.csv'"
   ]
  },
  {
   "cell_type": "code",
   "execution_count": 4,
   "metadata": {
    "collapsed": false
   },
   "outputs": [
    {
     "data": {
      "text/html": [
       "<div>\n",
       "<style scoped>\n",
       "    .dataframe tbody tr th:only-of-type {\n",
       "        vertical-align: middle;\n",
       "    }\n",
       "\n",
       "    .dataframe tbody tr th {\n",
       "        vertical-align: top;\n",
       "    }\n",
       "\n",
       "    .dataframe thead th {\n",
       "        text-align: right;\n",
       "    }\n",
       "</style>\n",
       "<table border=\"1\" class=\"dataframe\">\n",
       "  <thead>\n",
       "    <tr style=\"text-align: right;\">\n",
       "      <th></th>\n",
       "      <th>PlayerName</th>\n",
       "      <th>Team</th>\n",
       "      <th>PTS</th>\n",
       "    </tr>\n",
       "  </thead>\n",
       "  <tbody>\n",
       "    <tr>\n",
       "      <th>0</th>\n",
       "      <td>Mike Trout</td>\n",
       "      <td>Angels</td>\n",
       "      <td>710.0</td>\n",
       "    </tr>\n",
       "    <tr>\n",
       "      <th>1</th>\n",
       "      <td>Joey Votto</td>\n",
       "      <td>Reds</td>\n",
       "      <td>644.0</td>\n",
       "    </tr>\n",
       "    <tr>\n",
       "      <th>2</th>\n",
       "      <td>Freddie Freeman</td>\n",
       "      <td>Braves</td>\n",
       "      <td>621.0</td>\n",
       "    </tr>\n",
       "    <tr>\n",
       "      <th>3</th>\n",
       "      <td>Bryce Harper</td>\n",
       "      <td>Nationals</td>\n",
       "      <td>594.0</td>\n",
       "    </tr>\n",
       "    <tr>\n",
       "      <th>4</th>\n",
       "      <td>Giancarlo Stanton</td>\n",
       "      <td>Yankees</td>\n",
       "      <td>608.0</td>\n",
       "    </tr>\n",
       "  </tbody>\n",
       "</table>\n",
       "</div>"
      ],
      "text/plain": [
       "          PlayerName       Team    PTS\n",
       "0         Mike Trout     Angels  710.0\n",
       "1         Joey Votto       Reds  644.0\n",
       "2    Freddie Freeman     Braves  621.0\n",
       "3       Bryce Harper  Nationals  594.0\n",
       "4  Giancarlo Stanton    Yankees  608.0"
      ]
     },
     "execution_count": 4,
     "metadata": {},
     "output_type": "execute_result"
    }
   ],
   "source": [
    "#import Hitter and Pitcher Stats\n",
    "dfIn = pd.read_csv(fileHit)\n",
    "dfIn.rename(columns={ dfIn.columns[0]: \"PlayerName\" },inplace=True)\n",
    "\n",
    "#drop everyone with <400 PA\n",
    "dfIn=dfIn.loc[(dfIn['PA'] >= 400)]\n",
    "dfHitterProj=dfIn\n",
    "\n",
    "#create pts column\n",
    "dfIn=dfIn.rename(index=str, columns={\"2B\": \"double\", \"3B\": \"triple\"})\n",
    "\n",
    "#This is the objective hitters points function defined by your league. \n",
    "dfIn['PTS']=dfIn.apply(lambda row: row.H+row.double+2*row.triple+3*row.HR\n",
    "                       +row.BB+row.R+row.RBI+row.HBP+2*row.SB,axis=1)\n",
    "\n",
    "dfIn = dfIn.loc[:,['PlayerName','Team','PTS']]\n",
    "dfIn.head()\n"
   ]
  },
  {
   "cell_type": "code",
   "execution_count": 5,
   "metadata": {
    "collapsed": false
   },
   "outputs": [
    {
     "data": {
      "text/html": [
       "<div>\n",
       "<style scoped>\n",
       "    .dataframe tbody tr th:only-of-type {\n",
       "        vertical-align: middle;\n",
       "    }\n",
       "\n",
       "    .dataframe tbody tr th {\n",
       "        vertical-align: top;\n",
       "    }\n",
       "\n",
       "    .dataframe thead th {\n",
       "        text-align: right;\n",
       "    }\n",
       "</style>\n",
       "<table border=\"1\" class=\"dataframe\">\n",
       "  <thead>\n",
       "    <tr style=\"text-align: right;\">\n",
       "      <th></th>\n",
       "      <th>PlayerName</th>\n",
       "      <th>Team</th>\n",
       "      <th>PTS</th>\n",
       "    </tr>\n",
       "  </thead>\n",
       "  <tbody>\n",
       "    <tr>\n",
       "      <th>0</th>\n",
       "      <td>Kenley Jansen</td>\n",
       "      <td>Dodgers</td>\n",
       "      <td>605.0</td>\n",
       "    </tr>\n",
       "    <tr>\n",
       "      <th>2</th>\n",
       "      <td>Craig Kimbrel</td>\n",
       "      <td>Red Sox</td>\n",
       "      <td>586.0</td>\n",
       "    </tr>\n",
       "    <tr>\n",
       "      <th>3</th>\n",
       "      <td>A.J. Minter</td>\n",
       "      <td>Braves</td>\n",
       "      <td>200.0</td>\n",
       "    </tr>\n",
       "    <tr>\n",
       "      <th>4</th>\n",
       "      <td>Andrew Miller</td>\n",
       "      <td>Indians</td>\n",
       "      <td>282.0</td>\n",
       "    </tr>\n",
       "    <tr>\n",
       "      <th>5</th>\n",
       "      <td>Noah Syndergaard</td>\n",
       "      <td>Mets</td>\n",
       "      <td>459.0</td>\n",
       "    </tr>\n",
       "  </tbody>\n",
       "</table>\n",
       "</div>"
      ],
      "text/plain": [
       "         PlayerName     Team    PTS\n",
       "0     Kenley Jansen  Dodgers  605.0\n",
       "2     Craig Kimbrel  Red Sox  586.0\n",
       "3       A.J. Minter   Braves  200.0\n",
       "4     Andrew Miller  Indians  282.0\n",
       "5  Noah Syndergaard     Mets  459.0"
      ]
     },
     "execution_count": 5,
     "metadata": {},
     "output_type": "execute_result"
    }
   ],
   "source": [
    "dfInP = pd.read_csv(filePit)\n",
    "dfInP.rename(columns={ dfInP.columns[0]: \"PlayerName\" },inplace=True)\n",
    "\n",
    "#drop everyone with <50 IP\n",
    "dfInP=dfInP.loc[(dfInP['IP'] >= 50)]\n",
    "dfPitcherProj=dfInP\n",
    "\n",
    "#create pts column\n",
    "#This is the objective pitcher points \n",
    "dfInP['PTS']=dfInP.apply(lambda row: row.IP+row.SO+10*row.W+10*row.SV,axis=1)\n",
    "\n",
    "dfInP = dfInP.loc[:,['PlayerName','Team','PTS']]\n",
    "dfInP.head()"
   ]
  },
  {
   "cell_type": "code",
   "execution_count": 6,
   "metadata": {
    "collapsed": true
   },
   "outputs": [],
   "source": [
    "#append into single df\n",
    "dfIn = dfIn.append(dfInP)\n",
    "dfIn = dfIn.loc[:,['PlayerName','Team','PTS']]"
   ]
  },
  {
   "cell_type": "code",
   "execution_count": 7,
   "metadata": {
    "collapsed": false
   },
   "outputs": [
    {
     "data": {
      "text/html": [
       "<div>\n",
       "<style scoped>\n",
       "    .dataframe tbody tr th:only-of-type {\n",
       "        vertical-align: middle;\n",
       "    }\n",
       "\n",
       "    .dataframe tbody tr th {\n",
       "        vertical-align: top;\n",
       "    }\n",
       "\n",
       "    .dataframe thead th {\n",
       "        text-align: right;\n",
       "    }\n",
       "</style>\n",
       "<table border=\"1\" class=\"dataframe\">\n",
       "  <thead>\n",
       "    <tr style=\"text-align: right;\">\n",
       "      <th></th>\n",
       "      <th>PlayerName</th>\n",
       "      <th>Team</th>\n",
       "      <th>PTS</th>\n",
       "      <th>POS</th>\n",
       "      <th>Salary</th>\n",
       "    </tr>\n",
       "  </thead>\n",
       "  <tbody>\n",
       "    <tr>\n",
       "      <th>0</th>\n",
       "      <td>Mike Trout</td>\n",
       "      <td>Angels</td>\n",
       "      <td>710.0</td>\n",
       "      <td>OF,UT</td>\n",
       "      <td>3280000.0</td>\n",
       "    </tr>\n",
       "    <tr>\n",
       "      <th>1</th>\n",
       "      <td>Joey Votto</td>\n",
       "      <td>Reds</td>\n",
       "      <td>644.0</td>\n",
       "      <td>1B,UT</td>\n",
       "      <td>3030000.0</td>\n",
       "    </tr>\n",
       "    <tr>\n",
       "      <th>2</th>\n",
       "      <td>Freddie Freeman</td>\n",
       "      <td>Braves</td>\n",
       "      <td>621.0</td>\n",
       "      <td>1B,UT</td>\n",
       "      <td>2820000.0</td>\n",
       "    </tr>\n",
       "    <tr>\n",
       "      <th>3</th>\n",
       "      <td>Bryce Harper</td>\n",
       "      <td>Nationals</td>\n",
       "      <td>594.0</td>\n",
       "      <td>OF,UT</td>\n",
       "      <td>2850000.0</td>\n",
       "    </tr>\n",
       "    <tr>\n",
       "      <th>4</th>\n",
       "      <td>Giancarlo Stanton</td>\n",
       "      <td>Yankees</td>\n",
       "      <td>608.0</td>\n",
       "      <td>OF,UT</td>\n",
       "      <td>2930000.0</td>\n",
       "    </tr>\n",
       "  </tbody>\n",
       "</table>\n",
       "</div>"
      ],
      "text/plain": [
       "          PlayerName       Team    PTS    POS     Salary\n",
       "0         Mike Trout     Angels  710.0  OF,UT  3280000.0\n",
       "1         Joey Votto       Reds  644.0  1B,UT  3030000.0\n",
       "2    Freddie Freeman     Braves  621.0  1B,UT  2820000.0\n",
       "3       Bryce Harper  Nationals  594.0  OF,UT  2850000.0\n",
       "4  Giancarlo Stanton    Yankees  608.0  OF,UT  2930000.0"
      ]
     },
     "execution_count": 7,
     "metadata": {},
     "output_type": "execute_result"
    }
   ],
   "source": [
    "dfInF = pd.read_csv(fileFan)\n",
    "dfInF.rename(columns={ dfIn.columns[0]: \"PlayerNameBad\" },inplace=True)\n",
    "\n",
    "#change playername formatting\n",
    "dfInF['PlayerName'] = dfInF['PlayerNameBad'].str.split(', ').str[::-1].str.join(' ')\n",
    "dfInF = dfInF.loc[:,['PlayerName','POS','Salary']]\n",
    "\n",
    "df=dfIn.merge(dfInF, on='PlayerName', how='left')\n",
    "df=df.dropna().copy()\n",
    "df.head()"
   ]
  },
  {
   "cell_type": "code",
   "execution_count": 23,
   "metadata": {
    "collapsed": false
   },
   "outputs": [
    {
     "data": {
      "image/png": "[encoded data removed]",
      "text/plain": [
       "<matplotlib.figure.Figure at 0xda59470>"
      ]
     },
     "metadata": {},
     "output_type": "display_data"
    }
   ],
   "source": [
    "#Visualization\n",
    "\n",
    "dfPlot= df[df['PTS'] > 300] \n",
    "groups = dfPlot.groupby('POS')\n",
    "\n",
    "\n",
    "# Plot \n",
    "fig, ax = plt.subplots()\n",
    "for name, group in groups:    \n",
    "    ax.plot(group.Salary, group.PTS, marker='o', linestyle='', ms=4, label=name)\n",
    "ax.legend()\n",
    "\n",
    "ax.set_title('Salary vs ATC Points')\n",
    "ax.set_xlabel('Salary')\n",
    "ax.set_ylabel('Points')\n",
    "plt.show()"
   ]
  },
  {
   "cell_type": "code",
   "execution_count": 8,
   "metadata": {
    "collapsed": false
   },
   "outputs": [],
   "source": [
    "#get player\n",
    "def getPlayer(playerName):\n",
    "    return (df.loc[df['PlayerName']==playerName])"
   ]
  },
  {
   "cell_type": "code",
   "execution_count": 9,
   "metadata": {
    "collapsed": true
   },
   "outputs": [],
   "source": [
    "#get player\n",
    "def getHitterProj(playerName):\n",
    "    return (dfHitterProj.loc[dfHitterProj['PlayerName']==playerName])"
   ]
  },
  {
   "cell_type": "code",
   "execution_count": 10,
   "metadata": {
    "collapsed": true
   },
   "outputs": [],
   "source": [
    "#get player\n",
    "def getPitcherProj(playerName):\n",
    "    return (dfPitcherProj.loc[dfPitcherProj['PlayerName']==playerName])"
   ]
  },
  {
   "cell_type": "code",
   "execution_count": 11,
   "metadata": {
    "collapsed": false
   },
   "outputs": [],
   "source": [
    "#add hitter to team\n",
    "def addPlayer(playerNames,team):\n",
    "    for i in range(len(playerNames)):\n",
    "        name=playerNames[i]\n",
    "        team=team.append(getPlayer(name))\n",
    "    return team"
   ]
  },
  {
   "cell_type": "code",
   "execution_count": 12,
   "metadata": {
    "collapsed": false
   },
   "outputs": [],
   "source": [
    "#remove player from team\n",
    "def dropPlayer(playerName,team):\n",
    "    target=team.loc[team['PlayerName']==playerName]\n",
    "    team=team.drop(target)\n",
    "    return team\n"
   ]
  },
  {
   "cell_type": "code",
   "execution_count": 18,
   "metadata": {
    "collapsed": true
   },
   "outputs": [],
   "source": [
    "myTeam=pd.DataFrame()"
   ]
  },
  {
   "cell_type": "code",
   "execution_count": 19,
   "metadata": {
    "collapsed": true
   },
   "outputs": [],
   "source": [
    "#jose ramirez fix\n",
    "#manually setting jose ramirez RP's value\n",
    "df.loc[(df['PlayerName'] == 'Jose Ramirez') & (df['POS'].str.contains('P')), 'PTS'] = -9.2"
   ]
  },
  {
   "cell_type": "code",
   "execution_count": 20,
   "metadata": {
    "collapsed": false
   },
   "outputs": [],
   "source": [
    "import pulp"
   ]
  },
  {
   "cell_type": "code",
   "execution_count": 21,
   "metadata": {
    "collapsed": false
   },
   "outputs": [],
   "source": [
    "def lineupOptimizer(df):\n",
    "    # initialize variables\n",
    "    playerPositions = df['POS'].tolist()\n",
    "    playerNames = df['PlayerName'].tolist()\n",
    "    playerCosts = tuple(df['Salary']) #using salary costs\n",
    "    playerPoints = tuple(df['PTS'])\n",
    "    \n",
    "    salaryCap = 60*1000000 #60 mil\n",
    "    numOfPlayers = range(len(playerCosts))\n",
    "    \n",
    "    # formulate linear programming problem\n",
    "    problem = pulp.LpProblem(\"Optimal Lineup\", pulp.LpMaximize)\n",
    "    # create variable to represent each player\n",
    "    playerInLineup = pulp.LpVariable.dicts(\"Players\", [i for i in numOfPlayers], 0, 1, cat=\"Binary\")\n",
    "    # create objective: maximize sum of player points\n",
    "    problem += pulp.lpSum(playerInLineup[i] * playerPoints[i] for i in numOfPlayers)\n",
    "    \n",
    "    # constraint: each player can only be chosen at most once\n",
    "    for i in numOfPlayers:\n",
    "        problem += pulp.lpSum(playerInLineup[i]) <= 1\n",
    "    # constraints: sum of player costs must be less than or equal to the salary cap\n",
    "    problem += sum(playerInLineup[i] * playerCosts[i] for i in numOfPlayers) <= salaryCap\n",
    "    # constraint: teams must have 28 players\n",
    "    problem += pulp.lpSum(problem.variables()) == 28\n",
    "    \n",
    "    #add players from my team\n",
    "    if(len(myTeam)>0):\n",
    "        keep = tuple(myTeam['Salary']>0)\n",
    "        problem += pulp.lpSum(playerInLineup[i] * keep[i] for i in numOfPlayers) == sum(keep)\n",
    "\n",
    "    # position al consrtaints\n",
    "    # constraint: 2 <= C\n",
    "    #catchers = tuple(df['Pos'] == 'C')\n",
    "    catchers = tuple(df['POS'].str.contains('C'))\n",
    "    problem += pulp.lpSum(playerInLineup[i] * catchers[i] for i in numOfPlayers) >= 2\n",
    "\n",
    "    # constraint: 2 <= number of 1b\n",
    "    fb = tuple(df['POS'].str.contains('1B'))\n",
    "    problem += pulp.lpSum(playerInLineup[i] * fb[i] for i in numOfPlayers) >= 2\n",
    "\n",
    "    # constraint: 2 <= number of 2b\n",
    "    sb = tuple(df['POS'].str.contains('2B'))\n",
    "    problem += pulp.lpSum(sb[i] * playerInLineup[i] for i in numOfPlayers) >= 2\n",
    "\n",
    "    # constraint: 2 <= number of 3b\n",
    "    tb = tuple(df['POS'].str.contains('3B'))\n",
    "    problem += pulp.lpSum(tb[i] * playerInLineup[i] for i in numOfPlayers) >= 2\n",
    "\n",
    "    # constraint: 2 <= number of SS\n",
    "    ss = tuple(df['POS'].str.contains('SS'))\n",
    "    problem += pulp.lpSum(playerInLineup[i] * ss[i] for i in numOfPlayers) >= 2\n",
    "    \n",
    "    # constraint: 6 <= number of OF\n",
    "    of = tuple(df['POS'].str.contains('OF'))\n",
    "    problem += pulp.lpSum(playerInLineup[i] * of[i] for i in numOfPlayers) >= 6\n",
    "    \n",
    "    # constraint: 18 <= number of Total Players/UT\n",
    "    ut = tuple(df['POS'].str.contains('UT'))\n",
    "    problem += pulp.lpSum(playerInLineup[i] * ut[i] for i in numOfPlayers) >= 18\n",
    "    \n",
    "    # constraint: 6 <= number of SP\n",
    "    sp = tuple(df['POS'].str.contains('SP'))\n",
    "    problem += pulp.lpSum(playerInLineup[i] * sp[i] for i in numOfPlayers) >= 6\n",
    "    \n",
    "    #constraint: 4 <= number of RP\n",
    "    rp = tuple(df['POS'].str.contains('RP'))\n",
    "    problem += pulp.lpSum(playerInLineup[i] * rp[i] for i in numOfPlayers) >= 4\n",
    "    \n",
    "    # constraint: 10 <= number of P\n",
    "    p = tuple(df['POS'].str.contains('P'))\n",
    "    problem += pulp.lpSum(playerInLineup[i] * p[i] for i in numOfPlayers) >= 10\n",
    "    \n",
    "     \n",
    "    # output the calculated predicted lineup\n",
    "    cost = 0\n",
    "    points = 0\n",
    "\n",
    "    predicted = list()\n",
    "    if problem.solve() == 1:\n",
    "        for pos in range(len(numOfPlayers)):\n",
    "            if playerInLineup[pos].value() == 1:\n",
    "                name = playerNames[pos]\n",
    "                predicted.append(name)\n",
    "                cost += playerCosts[pos]\n",
    "                points += playerPoints[pos]\n",
    "                \n",
    "                print ('%25s, Position = %2s, Price = %5.f, Points = %3.2f' \\\n",
    "                      % (playerNames[pos], playerPositions[pos], playerCosts[pos],\n",
    "                         playerPoints[pos]))\n",
    "        print ('\\nTotal Team Cost: %5d\\nTotal Team Points: %5.2f' % (cost, points))\n",
    "        \n",
    "    else:\n",
    "        print ('Error finding solution')\n",
    "        \n",
    "    return(predicted,cost,points)"
   ]
  },
  {
   "cell_type": "code",
   "execution_count": 16,
   "metadata": {
    "collapsed": true
   },
   "outputs": [],
   "source": [
    "# def salaryOptimizer(df,playerName,pointsMax):\n",
    "# This can be used in salary + draft leagues, not necessary for these current league settings\n",
    "#     # initialize variables\n",
    "#     playerPositions = df['POS'].tolist()\n",
    "#     playerNames = df['PlayerName'].tolist()\n",
    "#     playerCosts = tuple(df['Salary']) #using salary costs\n",
    "#     playerPoints = tuple(df['PTS'])\n",
    "    \n",
    "#     salaryCap = 60*1000000 #60 mil\n",
    "#     numOfPlayers = range(len(playerCosts))\n",
    "    \n",
    "#     # formulate linear programming problem\n",
    "#     problem = pulp.LpProblem(\"Optimal Salary\", pulp.LpMaximize)\n",
    "#     # create variable to represent each player\n",
    "#     playerInLineup = pulp.LpVariable.dicts(\"Players\", [i for i in numOfPlayers], 0, 1, cat=\"Binary\")\n",
    "#     targetCost= pulp.LpVariable(\"TC\")\n",
    "        \n",
    "#     # create objective: maximize player 'adjusted' while including him in optimal lineup\n",
    "#     problem+=targetCost\n",
    "    \n",
    "#     #constraint: our player needs to be in the lineup\n",
    "#     target = tuple(df['PlayerName']==playerName)\n",
    "#     problem += pulp.lpSum(playerInLineup[i] * target[i] for i in numOfPlayers) == 1\n",
    "    \n",
    "#     #constraint: points needs to be >= last value\n",
    "#     problem += pulp.lpSum(playerInLineup[i] * playerPoints[i] for i in numOfPlayers) >= pointsMax-1\n",
    "    \n",
    "#     # constraint: each player can only be chosen at most once\n",
    "#     for i in numOfPlayers:\n",
    "#         problem += pulp.lpSum(playerInLineup[i]) <= 1\n",
    "#     # constraints: sum of player costs must be less than or equal to the salary cap\n",
    "#     problem += sum(playerInLineup[i] * playerCosts[i] for i in numOfPlayers) <= salaryCap-targetCost\n",
    "#     # constraint: teams must have 28 players\n",
    "    \n",
    "#     badCode = tuple(df['PlayerName'].notnull())\n",
    "#     problem += pulp.lpSum(playerInLineup[i] * badCode[i] for i in numOfPlayers) == 28 #of players in lineup\n",
    "    \n",
    "#     #add players from my team\n",
    "#     if(len(myTeam)>0):\n",
    "#         keep = tuple(myTeam['Salary']>0) #this wont work\n",
    "#         problem += pulp.lpSum(playerInLineup[i] * keep[i] for i in numOfPlayers) == sum(keep)\n",
    "\n",
    "#     # positions\n",
    "#     # constraint: 2 <= C\n",
    "#     #catchers = tuple(df['Pos'] == 'C')\n",
    "#     catchers = tuple(df['POS'].str.contains('C'))\n",
    "#     problem += pulp.lpSum(playerInLineup[i] * catchers[i] for i in numOfPlayers) >= 2\n",
    "\n",
    "#     # constraint: 2 <= number of 1b\n",
    "#     fb = tuple(df['POS'].str.contains('1B'))\n",
    "#     problem += pulp.lpSum(playerInLineup[i] * fb[i] for i in numOfPlayers) >= 2\n",
    "\n",
    "#     # constraint: 2 <= number of 2b\n",
    "#     sb = tuple(df['POS'].str.contains('2B'))\n",
    "#     problem += pulp.lpSum(sb[i] * playerInLineup[i] for i in numOfPlayers) >= 2\n",
    "\n",
    "#     # constraint: 2 <= number of 3b\n",
    "#     tb = tuple(df['POS'].str.contains('3B'))\n",
    "#     problem += pulp.lpSum(tb[i] * playerInLineup[i] for i in numOfPlayers) >= 2\n",
    "\n",
    "#     # constraint: 2 <= number of SS\n",
    "#     ss = tuple(df['POS'].str.contains('SS'))\n",
    "#     problem += pulp.lpSum(playerInLineup[i] * ss[i] for i in numOfPlayers) >= 2\n",
    "    \n",
    "#     # constraint: 6 <= number of OF\n",
    "#     of = tuple(df['POS'].str.contains('OF'))\n",
    "#     problem += pulp.lpSum(playerInLineup[i] * of[i] for i in numOfPlayers) >= 6\n",
    "    \n",
    "#     # constraint: 18 <= number of UT\n",
    "#     ut = tuple(df['POS'].str.contains('UT'))\n",
    "#     problem += pulp.lpSum(playerInLineup[i] * ut[i] for i in numOfPlayers) >= 18\n",
    "    \n",
    "#     # constraint: 6 <= number of SP\n",
    "#     sp = tuple(df['POS'].str.contains('SP'))\n",
    "#     problem += pulp.lpSum(playerInLineup[i] * sp[i] for i in numOfPlayers) >= 6\n",
    "    \n",
    "#     #constraint: 4 <= number of RP\n",
    "#     rp = tuple(df['POS'].str.contains('RP'))\n",
    "#     problem += pulp.lpSum(playerInLineup[i] * rp[i] for i in numOfPlayers) >= 4\n",
    "    \n",
    "#     # constraint: 10 <= number of P\n",
    "#     p = tuple(df['POS'].str.contains('P'))\n",
    "#     problem += pulp.lpSum(playerInLineup[i] * p[i] for i in numOfPlayers) >= 10\n",
    "    \n",
    "     \n",
    "#     # output the calculated predicted lineup\n",
    "#     cost = 0\n",
    "#     points = 0\n",
    "\n",
    "#     predicted = list()\n",
    "#     if problem.solve() == 1:\n",
    "#         for pos in range(len(numOfPlayers)):\n",
    "#             if playerInLineup[pos].value() == 1:\n",
    "#                 name = playerNames[pos]\n",
    "#                 predicted.append(name)\n",
    "#                 cost += playerCosts[pos]\n",
    "#                 points += playerPoints[pos]\n",
    "                \n",
    "#                 print ('%25s, Position = %2s, Price = %5.f, Points = %3.2f' \\\n",
    "#                       % (playerNames[pos], playerPositions[pos], playerCosts[pos],\n",
    "#                          playerPoints[pos]))\n",
    "#         print ('\\nTotal Team Cost: %5d\\nTotal Team Points: %5.2f' % (cost, points))\n",
    "#         print (playerName, targetCost.value())\n",
    "        \n",
    "#     else:\n",
    "#         print ('Error finding solution')\n",
    "        \n",
    "#     return (predicted,cost,points,targetCost)"
   ]
  },
  {
   "cell_type": "code",
   "execution_count": 22,
   "metadata": {
    "collapsed": false
   },
   "outputs": [
    {
     "name": "stdout",
     "output_type": "stream",
     "text": [
      "               Mike Trout, Position = OF,UT, Price = 3280000, Points = 710.00\n",
      "         Paul Goldschmidt, Position = 1B,UT, Price = 3240000, Points = 663.00\n",
      "              Kris Bryant, Position = 3B,UT, Price = 2810000, Points = 637.00\n",
      "             Jose Ramirez, Position = 3B,UT, Price = 2460000, Points = 589.00\n",
      "             Rhys Hoskins, Position = OF,UT, Price = 1740000, Points = 531.00\n",
      "             Gary Sanchez, Position = C,UT, Price = 2020000, Points = 469.00\n",
      "           Cody Bellinger, Position = 1B,UT, Price = 2490000, Points = 589.00\n",
      "        Willson Contreras, Position = C,UT, Price = 1610000, Points = 436.00\n",
      "             Mookie Betts, Position = OF,UT, Price = 2890000, Points = 630.00\n",
      "             Alex Bregman, Position = 3B,UT, Price = 1910000, Points = 569.00\n",
      "             Brian Dozier, Position = 2B,UT, Price = 2770000, Points = 609.00\n",
      "         Francisco Lindor, Position = SS,UT, Price = 2510000, Points = 590.00\n",
      "              Trea Turner, Position = SS,UT, Price = 2440000, Points = 594.00\n",
      "        Andrew Benintendi, Position = OF,UT, Price = 2120000, Points = 550.00\n",
      "                 Ian Happ, Position = OF,UT, Price = 1290000, Points = 458.00\n",
      "             Matt Chapman, Position = 3B,UT, Price = 1220000, Points = 457.00\n",
      "             Ozzie Albies, Position = 2B,UT, Price = 1210000, Points = 477.00\n",
      "            Manuel Margot, Position = OF,UT, Price = 1360000, Points = 463.00\n",
      "            Craig Kimbrel, Position = RP, Price = 2740000, Points = 586.00\n",
      "            Roberto Osuna, Position = RP, Price = 2430000, Points = 555.00\n",
      "            Felipe Rivero, Position = RP, Price = 2070000, Points = 523.00\n",
      "               Chris Sale, Position = SP, Price = 3250000, Points = 650.00\n",
      "                Brad Hand, Position = RP, Price = 2010000, Points = 513.00\n",
      "               Aaron Nola, Position = SP, Price = 1990000, Points = 517.00\n",
      "              Luke Weaver, Position = SP, Price = 1240000, Points = 458.00\n",
      "                 Jon Gray, Position = SP, Price = 1670000, Points = 464.00\n",
      "              Zack Godley, Position = SP, Price = 1530000, Points = 455.00\n",
      "             Jose Berrios, Position = SP, Price = 1670000, Points = 471.00\n",
      "\n",
      "Total Team Cost: 59970000\n",
      "Total Team Points: 15213.00\n"
     ]
    }
   ],
   "source": [
    "predictedLineup, cost, maxPoints = lineupOptimizer(df)\n"
   ]
  },
  {
   "cell_type": "code",
   "execution_count": 24,
   "metadata": {
    "collapsed": false
   },
   "outputs": [],
   "source": [
    "#statcost determination under each system\n",
    "df['DollarPts'] = df['Salary']/df['PTS']"
   ]
  },
  {
   "cell_type": "code",
   "execution_count": 25,
   "metadata": {
    "collapsed": false
   },
   "outputs": [],
   "source": [
    "#display top 1b\n",
    "dfFB= df[df['POS'].str.contains('1B')]\n",
    "dfFB = dfFB.sort_values('Salary',ascending = False)\n",
    "#dfFB.head(30)"
   ]
  },
  {
   "cell_type": "code",
   "execution_count": 26,
   "metadata": {
    "collapsed": false
   },
   "outputs": [],
   "source": [
    "dfSB= df[df['POS'].str.contains('2B')]\n",
    "#dfSB.head(15)"
   ]
  },
  {
   "cell_type": "code",
   "execution_count": 27,
   "metadata": {
    "collapsed": false
   },
   "outputs": [],
   "source": [
    "dfTB= df[df['POS'].str.contains('3B')]\n",
    "#dfTB.head(15)"
   ]
  },
  {
   "cell_type": "code",
   "execution_count": 28,
   "metadata": {
    "collapsed": false
   },
   "outputs": [],
   "source": [
    "dfSS= df[df['POS'].str.contains('SS')] #Lindor, Trea Turner\n",
    "#dfSS.head(15)"
   ]
  },
  {
   "cell_type": "code",
   "execution_count": 29,
   "metadata": {
    "collapsed": false
   },
   "outputs": [],
   "source": [
    "dfOF= df[df['POS'].str.contains('OF')]\n",
    "dfOF=dfOF.sort_values('PTS',ascending = False)\n",
    "#dfOF.head(60)"
   ]
  },
  {
   "cell_type": "code",
   "execution_count": 30,
   "metadata": {
    "collapsed": false
   },
   "outputs": [],
   "source": [
    "dfUT = df[df['POS'].str.contains('UT')]\n",
    "dfUT = dfUT[dfUT['Salary']<1400000]\n",
    "dfUT =dfUT.sort_values('PTS',ascending = False)\n",
    "#dfUT.head(40)"
   ]
  },
  {
   "cell_type": "code",
   "execution_count": 31,
   "metadata": {
    "collapsed": false
   },
   "outputs": [],
   "source": [
    "dfSP = df[df['POS'].str.contains('SP')]\n",
    "dfSP = dfSP.sort_values('Salary',ascending = False) \n",
    "dfSP=dfSP.loc[:,['PlayerName','Team','PTS','Salary']]\n",
    "#dfSP.head(80)"
   ]
  },
  {
   "cell_type": "code",
   "execution_count": 32,
   "metadata": {
    "collapsed": false
   },
   "outputs": [],
   "source": [
    "dfRP = df[df['POS'].str.contains('RP')]\n",
    "dfRP = dfRP.sort_values('PTS',ascending = False) \n",
    "            #Chris Sale, Position = SP, Price = 3250000, Points = 650.00\n",
    "#                 Brad Hand, Position = RP, Price = 2010000, Points = 513.00\n",
    "#                Aaron Nola, Position = SP, Price = 1990000, Points = 517.00\n",
    "#               Luke Weaver, Position = SP, Price = 1240000, Points = 458.00\n",
    "#                  Jon Gray, Position = SP, Price = 1670000, Points = 464.00\n",
    "#               Zack Godley, Position = SP, Price = 1530000, Points = 455.00\n",
    "#              Jose Berrios, Position = SP, Price = 1670000, Points = 471.00\n",
    "dfRP=dfRP.loc[:,['PlayerName','Team','PTS','Salary']]\n",
    "#dfRP.head(30)"
   ]
  },
  {
   "cell_type": "code",
   "execution_count": null,
   "metadata": {
    "collapsed": true
   },
   "outputs": [],
   "source": [
    "#export analysis results to CSV file\n",
    "dfSP.to_csv('FantraxSilverSP.csv')"
   ]
  },
  {
   "cell_type": "code",
   "execution_count": null,
   "metadata": {
    "collapsed": true
   },
   "outputs": [],
   "source": []
  }
 ],
 "metadata": {
  "anaconda-cloud": {},
  "kernelspec": {
   "display_name": "Python [default]",
   "language": "python",
   "name": "python3"
  },
  "language_info": {
   "codemirror_mode": {
    "name": "ipython",
    "version": 3
   },
   "file_extension": ".py",
   "mimetype": "text/x-python",
   "name": "python",
   "nbconvert_exporter": "python",
   "pygments_lexer": "ipython3",
   "version": "3.5.2"
  }
 },
 "nbformat": 4,
 "nbformat_minor": 1
}
